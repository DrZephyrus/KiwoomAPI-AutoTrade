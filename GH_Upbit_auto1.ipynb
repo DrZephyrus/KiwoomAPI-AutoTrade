{
  "nbformat": 4,
  "nbformat_minor": 0,
  "metadata": {
    "colab": {
      "provenance": [],
      "authorship_tag": "ABX9TyP2lQ895yemOqqXHyzwAUh4",
      "include_colab_link": true
    },
    "kernelspec": {
      "name": "python3",
      "display_name": "Python 3"
    },
    "language_info": {
      "name": "python"
    }
  },
  "cells": [
    {
      "cell_type": "markdown",
      "metadata": {
        "id": "view-in-github",
        "colab_type": "text"
      },
      "source": [
        "<a href=\"https://colab.research.google.com/github/DrZephyrus/KiwoomAPI-AutoTrade/blob/main/GH_Upbit_auto1.ipynb\" target=\"_parent\"><img src=\"https://colab.research.google.com/assets/colab-badge.svg\" alt=\"Open In Colab\"/></a>"
      ]
    },
    {
      "cell_type": "code",
      "source": [
        "\n",
        "import jwt\n",
        "import uuid\n",
        "import hashlib\n",
        "from urllib.parse import urlencode\n",
        "import requests\n",
        "from datetime import datetime, timedelta\n",
        "import time\n",
        "import sched\n"
      ],
      "metadata": {
        "id": "1m_iOjPv_AX1"
      },
      "execution_count": 6,
      "outputs": []
    },
    {
      "cell_type": "code",
      "execution_count": 1,
      "metadata": {
        "id": "Q6rUu1QF3nme"
      },
      "outputs": [],
      "source": [
        "import requests, jwt, uuid, os\n",
        "import pandas as pd\n",
        "from dotenv import load_dotenv\n",
        "\n",
        "load_dotenv()\n",
        "\n",
        "\"\"\"\n",
        "# 전체 계좌 조회\n",
        "URL: https://docs.upbit.com/reference/%EC%A0%84%EC%B2%B4-%EA%B3%84%EC%A2%8C-%EC%A1%B0%ED%9A%8C\n",
        "\n",
        "[GET] https://api.upbit.com/v1/accounts\n",
        "\n",
        "## Response\n",
        "- currency: 화폐를 의미하는 영문 대문자 코드\n",
        "- balance: 주문가능 금액/수량\n",
        "- locked: 주문 중 묶여있는 금액/수량\n",
        "- avg_buy_price: 매수평균가\n",
        "- avg_buy_price_modified: 매수평균가 수정 여부\n",
        "- unit_currency: 평단가 기준 화폐\n",
        "\"\"\"\n",
        "my_account_url = 'https://api.upbit.com/v1/accounts'\n",
        "\n",
        "# Authorization\n",
        "# Key: access_key, secret_key\n",
        "access_key = os.getenv('ACCESS_KEY', '')\n",
        "secret_key = os.getenv('SECRET_KEY', '')\n",
        "\n",
        "authorization = 'Bearer {}'.format(jwt.encode({'access_key': access_key, 'nonce': str(uuid.uuid4())}, secret_key))\n",
        "headers = {\"Authorization\": authorization}\n",
        "\n",
        "\n",
        "# 내 계좌를 확인합니다.\n",
        "def get_my_exchange_account():\n",
        "    authorization = 'Bearer {}'.format(jwt.encode({'access_key': access_key, 'nonce': str(uuid.uuid4())}, secret_key))\n",
        "    headers = {\"Authorization\": authorization}\n",
        "\n",
        "    my_exchange_account = pd.DataFrame(requests.get(my_account_url, headers=headers).json())\n",
        "    return my_exchange_account"
      ]
    },
    {
      "cell_type": "code",
      "source": [
        "import pandas as pd\n",
        "from ta.volatility import BollingerBands\n",
        "\n",
        "\n",
        "def trading_strategy(\n",
        "        df: pd.DataFrame,\n",
        "        position: int,\n",
        ") -> dict:\n",
        "    \"\"\"\n",
        "    코인 트레이딩 전략 함수 - Bollinger Band Breakout\n",
        "\n",
        "    Args:\n",
        "        df (pd.DataFrame): 가격 데이터프레임\n",
        "        position (int): 현재 포지션 (0: 매수 가능, 1: 매도 가능)\n",
        "\n",
        "    Returns:\n",
        "        str: 트레이딩 액션 ('buy', 'sell', '')\n",
        "\n",
        "    # 계산에 사용될 df 설명\n",
        "    - close: 종가\n",
        "    - open: 시가\n",
        "    - high: 고가\n",
        "    - low: 저가\n",
        "    - volume: 거래량\n",
        "    \"\"\"\n",
        "\n",
        "    # DataFrame 필수 데이터 검증\n",
        "    required_columns = ['close', 'date', 'time', 'volume']\n",
        "    if not all(col in df.columns for col in required_columns):\n",
        "        raise ValueError(f\"DataFrame은 {required_columns} 컬럼을 포함해야 합니다.\")\n",
        "\n",
        "    # 최소 200개 데이터 필요 (MA200 계산을 위해)\n",
        "    if len(df) < 200:\n",
        "        print('데이터가 부족합니다 (최소 200개 필요).')\n",
        "        return {\n",
        "            \"signal\": \"\",\n",
        "            \"bull_market\": \"\",\n",
        "            \"message\": \"\"\n",
        "        }\n",
        "\n",
        "    # # 이동평균선 계산\n",
        "    # df['MA20'] = df['close'].rolling(window=20).mean()\n",
        "    # df['MA50'] = df['close'].rolling(window=50).mean()\n",
        "    #\n",
        "    # # 20MA 기울기 계산\n",
        "    # df['MA20_slope'] = df['MA20'].diff()  # diff() 함수를 사용하여 기울기 계산\n",
        "\n",
        "    # EMA 계산\n",
        "    df['EMA50'] = df['close'].ewm(span=50, adjust=False).mean()\n",
        "    df['EMA200'] = df['close'].ewm(span=200, adjust=False).mean()\n",
        "\n",
        "    # 시장 상황 판단 (50EMA와 200EMA 비교)\n",
        "    # is_bull_market = df['EMA50'].iloc[-1] > df['EMA200'].iloc[-1]\n",
        "\n",
        "    # 시장 상황 판단 (200EMA 기울기)\n",
        "    df['EMA200_slope'] = df['EMA200'].diff()  # diff() 함수를 사용하여 기울기 계산\n",
        "\n",
        "    # 기울기가 양(+)인 경우 Bull Market\n",
        "    is_bull_market = df['EMA200_slope'].iloc[-1] > 0\n",
        "\n",
        "    print(f'is_bull_market : {is_bull_market}')\n",
        "\n",
        "    # 볼린저밴드 계산\n",
        "    bollinger = BollingerBands(df['close'])\n",
        "    df['BB_upper'] = bollinger.bollinger_hband()\n",
        "    df['BB_mid'] = bollinger.bollinger_mavg()\n",
        "    df['BB_lower'] = bollinger.bollinger_lband()\n",
        "\n",
        "    # 최근 20개의 DataFrame 추출\n",
        "    recent_df: pd.DataFrame = df.tail(20)\n",
        "\n",
        "    # 이전 캔들이 볼린저밴드 하단을 돌파한 음봉(-)인지 확인\n",
        "    bb_lower_breakout = (\n",
        "            recent_df['open'].iloc[-2] > recent_df['close'].iloc[-2] and\n",
        "            recent_df['close'].iloc[-2] < recent_df['BB_lower'].iloc[-2]\n",
        "    )\n",
        "\n",
        "    print(f'position : {position}')\n",
        "    print(f'bb_lower_breakout : {bb_lower_breakout}')\n",
        "\n",
        "    # 매수 가능\n",
        "    if position == 0 and bb_lower_breakout:\n",
        "        # 현재 캔들이 양봉이면 매수\n",
        "        is_recent_positive_candle = recent_df['open'].iloc[-1] < recent_df['close'].iloc[-1]\n",
        "\n",
        "        if is_recent_positive_candle:\n",
        "            buy_msg = '이전 캔들이 볼린저밴드 하단을 돌파한 음봉이고, 현재 캔들이 양봉'\n",
        "\n",
        "            print(f'buy_signal! - {buy_msg}')\n",
        "            return {\n",
        "                \"signal\": \"buy\",\n",
        "                \"bull_market\": is_bull_market,\n",
        "                \"message\": f\"매수 조건에 부합 - {buy_msg}\"\n",
        "            }\n",
        "\n",
        "    # 매도 가능\n",
        "    elif position == 1:\n",
        "        # 이전 캔들이 볼린저밴드 상단을 돌파한 양봉(+)인지 확인\n",
        "        bb_upper_breakout = (\n",
        "                recent_df['open'].iloc[-2] < recent_df['close'].iloc[-2] and\n",
        "                recent_df['close'].iloc[-2] > recent_df['BB_upper'].iloc[-2]\n",
        "        )\n",
        "\n",
        "        print(f'bb_upper_breakout : {bb_upper_breakout}')\n",
        "\n",
        "        if bb_upper_breakout:\n",
        "            sell_msg = '이전 캔들이 볼린저밴드 상단을 돌파한 양봉'\n",
        "\n",
        "            print(f'buy_signal! - {sell_msg}')\n",
        "            return {\n",
        "                \"signal\": \"sell\",\n",
        "                \"bull_market\": is_bull_market,\n",
        "                \"message\": f\"매도 조건에 부합 - {sell_msg}\"\n",
        "            }\n",
        "\n",
        "    return {\n",
        "        \"signal\": \"\",\n",
        "        \"bull_market\": is_bull_market,\n",
        "        \"message\": \"\"\n",
        "    }"
      ],
      "metadata": {
        "colab": {
          "base_uri": "https://localhost:8080/",
          "height": 405
        },
        "id": "32j7CB2q-evj",
        "outputId": "8da050ec-75af-4f93-a5dc-c1c954238a34"
      },
      "execution_count": 7,
      "outputs": [
        {
          "output_type": "error",
          "ename": "ModuleNotFoundError",
          "evalue": "No module named 'ta'",
          "traceback": [
            "\u001b[0;31m---------------------------------------------------------------------------\u001b[0m",
            "\u001b[0;31mModuleNotFoundError\u001b[0m                       Traceback (most recent call last)",
            "\u001b[0;32m/tmp/ipython-input-2029723519.py\u001b[0m in \u001b[0;36m<cell line: 0>\u001b[0;34m()\u001b[0m\n\u001b[1;32m      1\u001b[0m \u001b[0;32mimport\u001b[0m \u001b[0mpandas\u001b[0m \u001b[0;32mas\u001b[0m \u001b[0mpd\u001b[0m\u001b[0;34m\u001b[0m\u001b[0;34m\u001b[0m\u001b[0m\n\u001b[0;32m----> 2\u001b[0;31m \u001b[0;32mfrom\u001b[0m \u001b[0mta\u001b[0m\u001b[0;34m.\u001b[0m\u001b[0mvolatility\u001b[0m \u001b[0;32mimport\u001b[0m \u001b[0mBollingerBands\u001b[0m\u001b[0;34m\u001b[0m\u001b[0;34m\u001b[0m\u001b[0m\n\u001b[0m\u001b[1;32m      3\u001b[0m \u001b[0;34m\u001b[0m\u001b[0m\n\u001b[1;32m      4\u001b[0m \u001b[0;34m\u001b[0m\u001b[0m\n\u001b[1;32m      5\u001b[0m def trading_strategy(\n",
            "\u001b[0;31mModuleNotFoundError\u001b[0m: No module named 'ta'",
            "",
            "\u001b[0;31m---------------------------------------------------------------------------\u001b[0;32m\nNOTE: If your import is failing due to a missing package, you can\nmanually install dependencies using either !pip or !apt.\n\nTo view examples of installing some common dependencies, click the\n\"Open Examples\" button below.\n\u001b[0;31m---------------------------------------------------------------------------\u001b[0m\n"
          ],
          "errorDetails": {
            "actions": [
              {
                "action": "open_url",
                "actionText": "Open Examples",
                "url": "/notebooks/snippets/importing_libraries.ipynb"
              }
            ]
          }
        }
      ]
    }
  ]
}